{
 "cells": [
  {
   "cell_type": "markdown",
   "metadata": {},
   "source": [
    "# Данилов Ф.А. 151004\n",
    "# Лабораторная работа 1, Вариант 13"
   ]
  },
  {
   "cell_type": "markdown",
   "metadata": {},
   "source": [
    "## Часть 1"
   ]
  },
  {
   "cell_type": "markdown",
   "metadata": {},
   "source": [
    "### Задание 1\n",
    "Дано  натуральное  число.  Напишите  программу,  которая \n",
    "определяет, является  ли  последовательность  его  цифр  при  просмотре \n",
    "справа налево упорядоченной по убыванию. **– 1 балл**"
   ]
  },
  {
   "cell_type": "code",
   "execution_count": 19,
   "metadata": {},
   "outputs": [],
   "source": [
    "reversed_num = input(\"Enter natural number...\\n\")[::-1]"
   ]
  },
  {
   "cell_type": "code",
   "execution_count": 20,
   "metadata": {},
   "outputs": [
    {
     "name": "stdout",
     "output_type": "stream",
     "text": [
      "True\n"
     ]
    }
   ],
   "source": [
    "try:\n",
    "    digits = list(map(int, str(reversed_num)))\n",
    "\n",
    "    i = 0\n",
    "    digit = digits[0]\n",
    "    is_descending = True\n",
    "\n",
    "    while (i < len(digits) - 1):\n",
    "        newDigit = digits[i + 1]\n",
    "\n",
    "        if (newDigit > digit):\n",
    "            is_descending = False\n",
    "            break\n",
    "\n",
    "        digit = newDigit\n",
    "        i = i + 1\n",
    "\n",
    "    print(is_descending)\n",
    "except:\n",
    "    print(\"You must input a number!\")"
   ]
  },
  {
   "cell_type": "markdown",
   "metadata": {},
   "source": [
    "### Задание 2\n",
    "Посчитать,  сколько  пар  (стоят  рядом)  верхнего  и  нижнего \n",
    "регистра находится в веденном с клавиатуры слове. (Пример HjkLM- 1 \n",
    "пара нижнего, 1 пара верхнего), а также сколько гласных букв в слове. **– 2 балла**"
   ]
  },
  {
   "cell_type": "code",
   "execution_count": 27,
   "metadata": {},
   "outputs": [],
   "source": [
    "text = input(\"Enter text...\\n\")"
   ]
  },
  {
   "cell_type": "code",
   "execution_count": 30,
   "metadata": {},
   "outputs": [
    {
     "name": "stdout",
     "output_type": "stream",
     "text": [
      "Text: AeghGF\n",
      "Upper: 3\n",
      "Lower: 3\n",
      "Vowels: 2\n"
     ]
    }
   ],
   "source": [
    "vowels_dict = ['a', 'e', 'i', 'o', 'u', 'а', 'у', 'о', 'ы', 'и', 'э', 'я', 'ю', 'ё', 'е']\n",
    "\n",
    "upper_count = 0\n",
    "lower_count = 0\n",
    "vowels_count = 0\n",
    "\n",
    "for char in text:\n",
    "    if (char.isupper()):\n",
    "        upper_count += 1\n",
    "\n",
    "    if (char.islower()):\n",
    "        lower_count += 1\n",
    "\n",
    "    if (char.lower() in vowels_dict):\n",
    "        vowels_count += 1\n",
    "\n",
    "print(\"Text: \" + text + \"\\nUpper: \" + str(upper_count) + \"\\nLower: \" + str(lower_count) + \"\\nVowels: \" + str(vowels_count))"
   ]
  },
  {
   "cell_type": "code",
   "execution_count": null,
   "metadata": {},
   "outputs": [],
   "source": []
  },
  {
   "cell_type": "markdown",
   "metadata": {},
   "source": [
    "### Задание 3\n",
    "Отсортируйте  словарь  по  значению  в  порядке  возрастания  и \n",
    "убывания. **– 2 балла**"
   ]
  },
  {
   "cell_type": "code",
   "execution_count": 33,
   "metadata": {},
   "outputs": [
    {
     "name": "stdout",
     "output_type": "stream",
     "text": [
      "Dictionary: [1, 0, 5, 3, 6, 2, 6, 7, 9, 10]\n",
      "Ascending: [0, 1, 2, 3, 5, 6, 6, 7, 9, 10]\n",
      "Descending: [10, 9, 7, 6, 6, 5, 3, 2, 1, 0]\n"
     ]
    }
   ],
   "source": [
    "num_dict = [1, 0, 5, 3, 6, 2, 6, 7, 9, 10]\n",
    "\n",
    "print(\"Dictionary: \" + str(num_dict))\n",
    "print(\"Ascending: \" + str(sorted(num_dict)))\n",
    "print(\"Descending: \" + str(sorted(num_dict, reverse=True)))"
   ]
  },
  {
   "cell_type": "markdown",
   "metadata": {},
   "source": [
    "### Задание 4\n",
    "Дан кортеж целых чисел. Вывести на экран первый и последний \n",
    "элемент кортежа. **– 1 балл**"
   ]
  },
  {
   "cell_type": "code",
   "execution_count": 38,
   "metadata": {},
   "outputs": [
    {
     "name": "stdout",
     "output_type": "stream",
     "text": [
      "Tuple: (0, 1, 2, 3, 4, 5, 6, 7)\n",
      "First: 0\n",
      "Last: 7\n"
     ]
    }
   ],
   "source": [
    "int_tuple = (0, 1, 2, 3, 4, 5, 6, 7)\n",
    "\n",
    "first = int_tuple[0]\n",
    "last = int_tuple[-1]\n",
    "\n",
    "print(\"Tuple: \" + str(int_tuple))\n",
    "print(\"First: \" + str(first))\n",
    "print(\"Last: \" + str(last))"
   ]
  },
  {
   "cell_type": "markdown",
   "metadata": {},
   "source": []
  },
  {
   "cell_type": "markdown",
   "metadata": {},
   "source": [
    "## Часть 2"
   ]
  },
  {
   "cell_type": "markdown",
   "metadata": {},
   "source": [
    "### Задание 1\n",
    "Написать функцию для вычисления наименьшего общего кратного. **– 2 балла**\n"
   ]
  },
  {
   "cell_type": "code",
   "execution_count": 44,
   "metadata": {},
   "outputs": [
    {
     "name": "stdout",
     "output_type": "stream",
     "text": [
      "Numbers: [1, 44, 22]\n",
      "Least common divider: 44\n"
     ]
    }
   ],
   "source": [
    "from math import gcd\n",
    "from functools import reduce\n",
    "\n",
    "def lcm(arr):\n",
    "    l = reduce(lambda x, y: (x * y) // gcd(x, y), arr)\n",
    "    return l\n",
    "\n",
    "arr = [1, 44, 22]\n",
    "\n",
    "print(\"Numbers: \" + str(arr))\n",
    "print(\"Least common divider: \" + str(lcm(arr)))\n",
    "    "
   ]
  },
  {
   "cell_type": "markdown",
   "metadata": {},
   "source": [
    "### Задание 2\n",
    "Даны два числа n и m. Создайте двумерный массив размером n×m и \n",
    "заполните  его  символами \".\" и \"*\" в  шахматном  порядке.  В  левом  верхнем \n",
    "углу должна стоять точка. **- 2 балла**"
   ]
  },
  {
   "cell_type": "code",
   "execution_count": 9,
   "metadata": {},
   "outputs": [],
   "source": [
    "n = int(input(\"Enter n...\\n\"))\n",
    "m = int(input(\"Enter m...\\n\"))"
   ]
  },
  {
   "cell_type": "code",
   "execution_count": 10,
   "metadata": {},
   "outputs": [
    {
     "data": {
      "text/html": [
       "<div>\n",
       "<style scoped>\n",
       "    .dataframe tbody tr th:only-of-type {\n",
       "        vertical-align: middle;\n",
       "    }\n",
       "\n",
       "    .dataframe tbody tr th {\n",
       "        vertical-align: top;\n",
       "    }\n",
       "\n",
       "    .dataframe thead th {\n",
       "        text-align: right;\n",
       "    }\n",
       "</style>\n",
       "<table border=\"1\" class=\"dataframe\">\n",
       "  <thead>\n",
       "    <tr style=\"text-align: right;\">\n",
       "      <th></th>\n",
       "      <th>0</th>\n",
       "      <th>1</th>\n",
       "      <th>2</th>\n",
       "      <th>3</th>\n",
       "      <th>4</th>\n",
       "      <th>5</th>\n",
       "      <th>6</th>\n",
       "      <th>7</th>\n",
       "    </tr>\n",
       "  </thead>\n",
       "  <tbody>\n",
       "    <tr>\n",
       "      <th>0</th>\n",
       "      <td>.</td>\n",
       "      <td>*</td>\n",
       "      <td>.</td>\n",
       "      <td>*</td>\n",
       "      <td>.</td>\n",
       "      <td>*</td>\n",
       "      <td>.</td>\n",
       "      <td>*</td>\n",
       "    </tr>\n",
       "    <tr>\n",
       "      <th>1</th>\n",
       "      <td>*</td>\n",
       "      <td>.</td>\n",
       "      <td>*</td>\n",
       "      <td>.</td>\n",
       "      <td>*</td>\n",
       "      <td>.</td>\n",
       "      <td>*</td>\n",
       "      <td>.</td>\n",
       "    </tr>\n",
       "    <tr>\n",
       "      <th>2</th>\n",
       "      <td>.</td>\n",
       "      <td>*</td>\n",
       "      <td>.</td>\n",
       "      <td>*</td>\n",
       "      <td>.</td>\n",
       "      <td>*</td>\n",
       "      <td>.</td>\n",
       "      <td>*</td>\n",
       "    </tr>\n",
       "    <tr>\n",
       "      <th>3</th>\n",
       "      <td>*</td>\n",
       "      <td>.</td>\n",
       "      <td>*</td>\n",
       "      <td>.</td>\n",
       "      <td>*</td>\n",
       "      <td>.</td>\n",
       "      <td>*</td>\n",
       "      <td>.</td>\n",
       "    </tr>\n",
       "    <tr>\n",
       "      <th>4</th>\n",
       "      <td>.</td>\n",
       "      <td>*</td>\n",
       "      <td>.</td>\n",
       "      <td>*</td>\n",
       "      <td>.</td>\n",
       "      <td>*</td>\n",
       "      <td>.</td>\n",
       "      <td>*</td>\n",
       "    </tr>\n",
       "    <tr>\n",
       "      <th>5</th>\n",
       "      <td>*</td>\n",
       "      <td>.</td>\n",
       "      <td>*</td>\n",
       "      <td>.</td>\n",
       "      <td>*</td>\n",
       "      <td>.</td>\n",
       "      <td>*</td>\n",
       "      <td>.</td>\n",
       "    </tr>\n",
       "    <tr>\n",
       "      <th>6</th>\n",
       "      <td>.</td>\n",
       "      <td>*</td>\n",
       "      <td>.</td>\n",
       "      <td>*</td>\n",
       "      <td>.</td>\n",
       "      <td>*</td>\n",
       "      <td>.</td>\n",
       "      <td>*</td>\n",
       "    </tr>\n",
       "  </tbody>\n",
       "</table>\n",
       "</div>"
      ],
      "text/plain": [
       "   0  1  2  3  4  5  6  7\n",
       "0  .  *  .  *  .  *  .  *\n",
       "1  *  .  *  .  *  .  *  .\n",
       "2  .  *  .  *  .  *  .  *\n",
       "3  *  .  *  .  *  .  *  .\n",
       "4  .  *  .  *  .  *  .  *\n",
       "5  *  .  *  .  *  .  *  .\n",
       "6  .  *  .  *  .  *  .  *"
      ]
     },
     "execution_count": 10,
     "metadata": {},
     "output_type": "execute_result"
    }
   ],
   "source": [
    "import pandas as pd\n",
    "\n",
    "arr = []\n",
    "\n",
    "is_start_dot = True\n",
    "\n",
    "chars = ['.', '*']\n",
    "\n",
    "for i in range(n):\n",
    "    arr.append([])\n",
    "\n",
    "    for j in range(m):\n",
    "        arr[i].append(chars[(j + i % 2) % 2])\n",
    "\n",
    "\n",
    "pd.DataFrame(arr)"
   ]
  },
  {
   "cell_type": "markdown",
   "metadata": {},
   "source": [
    "### Задание 3\n",
    "Напишите программу, демонстрирующую работу try\\except\\finally **– 2 балла**"
   ]
  },
  {
   "cell_type": "code",
   "execution_count": 14,
   "metadata": {},
   "outputs": [
    {
     "name": "stdout",
     "output_type": "stream",
     "text": [
      "This statement prints in the end\n"
     ]
    }
   ],
   "source": [
    "try:\n",
    "    text = \"This statement prints in the end\"\n",
    "    num = int(input(\"Enter a number...\\n\"))\n",
    "except:\n",
    "    print(\"Error. You must enter a Number!\")\n",
    "finally:\n",
    "    print(text)"
   ]
  },
  {
   "cell_type": "markdown",
   "metadata": {},
   "source": [
    "## Часть 3"
   ]
  },
  {
   "cell_type": "markdown",
   "metadata": {},
   "source": [
    "### Задание 1\n",
    "Класс Triangle \n",
    "Создайте  класс  Triangle.  В  нём  пропишите  3  (метода)  функции.  Первый метод:  проверка  на  существование  треугольника  по  данным  сторонам. Второй  метод  :  нахождение  площади  треугольника.  Третий  метод: нахождение периметра треугольника. **– 1 балл** "
   ]
  },
  {
   "cell_type": "code",
   "execution_count": 31,
   "metadata": {},
   "outputs": [],
   "source": [
    "from math import sqrt\n",
    "\n",
    "class Triangle:\n",
    "    def __init__(self, a, b, c):\n",
    "        self.a = a\n",
    "        self.b = b\n",
    "        self.c = c\n",
    "\n",
    "    @staticmethod\n",
    "    def is_triangle_valid(a, b, c):\n",
    "        return not ((a + b <= c) or (a + c <= b) or (b + c <= a))\n",
    "\n",
    "    def get_perimeter(self):\n",
    "        return self.a + self.b + self.c\n",
    "\n",
    "    def get_area(self):\n",
    "        s = self.get_perimeter() / 2\n",
    "        return sqrt(s * (s - self.a) * (s - self.b) * (s - self.c))\n"
   ]
  },
  {
   "cell_type": "code",
   "execution_count": 34,
   "metadata": {},
   "outputs": [
    {
     "name": "stdout",
     "output_type": "stream",
     "text": [
      "Triangle is not valid :(\n"
     ]
    }
   ],
   "source": [
    "a = int(input(\"Enter a...\\n\"))\n",
    "b = int(input(\"Enter b...\\n\"))\n",
    "c = int(input(\"Enter c...\\n\"))\n",
    "\n",
    "if (Triangle.is_triangle_valid(a, b, c)):\n",
    "    triangle = Triangle(a, b, c)\n",
    "    print(\"Perimeter: \" + str(triangle.get_perimeter()))\n",
    "    print(\"Area: \" + str(triangle.get_area()))\n",
    "else:\n",
    "    print(\"Triangle is not valid :(\")"
   ]
  },
  {
   "cell_type": "markdown",
   "metadata": {},
   "source": [
    "### Задание 2\n",
    "Создать классы Circle (круг), Square (квадрат), Rectangle (прямоугольник) для описания плоских геометрических фигур. Переопределить метод нахождения площади фигуры. **– 3 балла**"
   ]
  },
  {
   "cell_type": "code",
   "execution_count": 35,
   "metadata": {},
   "outputs": [],
   "source": [
    "from abc import ABC, abstractmethod\n",
    "import math\n",
    "\n",
    "class Shape(ABC):\n",
    "    @property\n",
    "    @abstractmethod\n",
    "    def name(self):\n",
    "        pass\n",
    "\n",
    "    @abstractmethod\n",
    "    def get_area(self):\n",
    "        pass\n",
    "\n",
    "class Circle(Shape):\n",
    "    def __init__(self, r):\n",
    "        self.r = r\n",
    "\n",
    "    def name(self):\n",
    "        return \"Circle\"\n",
    "\n",
    "    def get_area(self):\n",
    "        return math.pi * self.r * self.r\n",
    "\n",
    "class Square(Shape):\n",
    "    def __init__(self, a):\n",
    "        self.a = a\n",
    "\n",
    "    def name(self):\n",
    "        return \"Square\"\n",
    "\n",
    "    def get_area(self):\n",
    "        return a * a\n",
    "\n",
    "class Rectangle(Shape):\n",
    "    def __init__(self, a, b):\n",
    "        self.a = a\n",
    "        self.b = b\n",
    "\n",
    "    def name(self):\n",
    "        return \"Rectangle\"\n",
    "\n",
    "    def get_area(self):\n",
    "        return a * b"
   ]
  },
  {
   "cell_type": "code",
   "execution_count": 37,
   "metadata": {},
   "outputs": [
    {
     "name": "stdout",
     "output_type": "stream",
     "text": [
      "Circle area: 28.274333882308138\n",
      "Square area: 4.0\n",
      "Rectangle area: 8.0\n"
     ]
    }
   ],
   "source": [
    "shapes = []\n",
    "\n",
    "r = float(input(\"Enter circle radius...\\n\"))\n",
    "shapes.append(Circle(r))\n",
    "\n",
    "a = float(input(\"Enter square side...\\n\"))\n",
    "shapes.append(Square(a))\n",
    "\n",
    "a = float(input(\"Enter rectangle side 1...\\n\"))\n",
    "b = float(input(\"Enter rectangle side 2...\\n\"))\n",
    "shapes.append(Rectangle(a, b))\n",
    "\n",
    "for shape in shapes:\n",
    "    print(shape.name() + \" area: \" + str(shape.get_area()))"
   ]
  },
  {
   "cell_type": "markdown",
   "metadata": {},
   "source": [
    "### Задание 3\n",
    "Придумать  класс  самостоятельно, реализовать  в  нем  методы  экземпляра класса, статические, методы, методы класса. **– 1 – 3 балла**"
   ]
  },
  {
   "cell_type": "code",
   "execution_count": 41,
   "metadata": {},
   "outputs": [],
   "source": [
    "class Logger:\n",
    "\n",
    "    tag = \"DefaultTag\"\n",
    "\n",
    "    @staticmethod\n",
    "    def log_static(text):\n",
    "        Logger.__log__(\"NoTag\", text)\n",
    "\n",
    "    @staticmethod\n",
    "    def __log__(tag, text):\n",
    "        print(str(tag) + \" | \" + str(text))\n",
    "\n",
    "    @classmethod\n",
    "    def log_class(cls, text):\n",
    "        Logger.__log__(cls.tag, text)\n",
    "\n",
    "    def log_impl(self, text, tag = None):\n",
    "        if (tag != None):\n",
    "            self.tag = tag\n",
    "        \n",
    "        Logger.__log__(self.tag, text)\n"
   ]
  },
  {
   "cell_type": "code",
   "execution_count": 43,
   "metadata": {},
   "outputs": [
    {
     "name": "stdout",
     "output_type": "stream",
     "text": [
      "NoTag | Static method\n",
      "DefaultTag | Class method\n",
      "Implementation | Implementation method\n"
     ]
    }
   ],
   "source": [
    "Logger.log_static(text = \"Static method\")\n",
    "\n",
    "Logger.log_class(text = \"Class method\")\n",
    "\n",
    "Logger().log_impl(tag = \"Implementation\", text = \"Implementation method\")"
   ]
  }
 ],
 "metadata": {
  "kernelspec": {
   "display_name": "Python 3",
   "language": "python",
   "name": "python3"
  },
  "language_info": {
   "codemirror_mode": {
    "name": "ipython",
    "version": 3
   },
   "file_extension": ".py",
   "mimetype": "text/x-python",
   "name": "python",
   "nbconvert_exporter": "python",
   "pygments_lexer": "ipython3",
   "version": "3.10.12"
  }
 },
 "nbformat": 4,
 "nbformat_minor": 2
}
