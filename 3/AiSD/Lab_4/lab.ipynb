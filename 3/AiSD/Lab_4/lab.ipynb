{
 "cells": [
  {
   "cell_type": "markdown",
   "id": "6efd6850-1918-467a-9f7e-bc156e588d50",
   "metadata": {
    "tags": []
   },
   "source": [
    "# Oriented Graph\n",
    "\n",
    "## Features\n",
    "- Display graph\n",
    "- Display graph's adjacency matrix\n",
    "- Show shortest path from node A to node B\n",
    "- Show longest path from node A to node B assuming that graph is DAG\n",
    "- Show all paths from node A to node B sorted by weight sum\n",
    "- Show center of directed graph "
   ]
  },
  {
   "cell_type": "markdown",
   "id": "d19c42cf-8305-4e84-8cf4-9dd5fd3feb41",
   "metadata": {
    "tags": []
   },
   "source": [
    "# Code"
   ]
  },
  {
   "cell_type": "markdown",
   "id": "67b90089-1a71-4961-88c4-d0ab09c38834",
   "metadata": {
    "tags": []
   },
   "source": [
    "### Imports"
   ]
  },
  {
   "cell_type": "code",
   "execution_count": 1,
   "id": "f03b8bcf-56bb-4d59-95ca-5532b68970b0",
   "metadata": {},
   "outputs": [],
   "source": [
    "# Graph\n",
    "import networkx as nx\n",
    "# Arrays\n",
    "import numpy as np \n",
    "# Matrices\n",
    "import pandas\n",
    "\n",
    "from matplotlib import pyplot as plt"
   ]
  },
  {
   "cell_type": "markdown",
   "id": "a8a4304b-9208-4dae-8888-345c5a91f983",
   "metadata": {
    "tags": []
   },
   "source": [
    "## Graph creation"
   ]
  },
  {
   "cell_type": "markdown",
   "id": "bf664a3d-9e97-45b9-b924-cebe92433a85",
   "metadata": {
    "tags": []
   },
   "source": [
    "### Initialize graph"
   ]
  },
  {
   "cell_type": "code",
   "execution_count": 2,
   "id": "cc91ec97-a6a1-4ad2-ae0b-e2d8b1c46824",
   "metadata": {},
   "outputs": [],
   "source": [
    "G = nx.DiGraph()"
   ]
  },
  {
   "cell_type": "markdown",
   "id": "c63c1eee-0edd-4344-b5d2-c0d702ef6ebe",
   "metadata": {
    "tags": []
   },
   "source": [
    "### Add nodes"
   ]
  },
  {
   "cell_type": "code",
   "execution_count": 3,
   "id": "c31dab1b-0b1e-477f-8204-e6c6e328bce1",
   "metadata": {},
   "outputs": [],
   "source": [
    "# Add nodes\n",
    "G.add_node('A')\n",
    "G.add_node('B')\n",
    "G.add_node('C')\n",
    "G.add_node('D')\n",
    "G.add_node('E')\n",
    "G.add_node('F')"
   ]
  },
  {
   "cell_type": "markdown",
   "id": "6f211b97-704b-4f42-9cdd-2c5498c5cbf4",
   "metadata": {
    "tags": []
   },
   "source": [
    "### Add edges"
   ]
  },
  {
   "cell_type": "code",
   "execution_count": 4,
   "id": "138d3aaf-203c-498f-b6b6-90374a703de9",
   "metadata": {},
   "outputs": [],
   "source": [
    "# Add edges\n",
    "G.add_edge('A', 'B', weight=3)\n",
    "G.add_edge('A', 'C', weight=2)\n",
    "G.add_edge('B', 'C', weight=1)\n",
    "G.add_edge('B', 'E', weight=3)\n",
    "G.add_edge('C', 'D', weight=8)\n",
    "G.add_edge('E', 'F', weight=4)\n",
    "G.add_edge('D', 'F', weight=2)\n",
    "G.add_edge('B', 'D', weight=4)\n",
    "G.add_edge('E', 'D', weight=4)\n",
    "\n",
    "# G.add_edge('D', 'A', weight=6)\n",
    "# G.add_edge('F', 'A', weight=12)"
   ]
  },
  {
   "cell_type": "markdown",
   "id": "578efd7c-0f01-448b-a5ae-62441632f110",
   "metadata": {
    "tags": []
   },
   "source": [
    "### Set custom nodes position by x,y (optional)"
   ]
  },
  {
   "cell_type": "code",
   "execution_count": 5,
   "id": "65fdf31f-712b-430b-a770-07bd12c28b73",
   "metadata": {
    "tags": []
   },
   "outputs": [],
   "source": [
    "Node_pos = {'A':(1,2),'B':(2,3),'C':(2,1),'D':(3,1),'E':(4,3),'F':(5,1)}"
   ]
  },
  {
   "cell_type": "markdown",
   "id": "0e9b84d5-19f7-47b8-abf8-7da3acfe0e6f",
   "metadata": {
    "tags": []
   },
   "source": [
    "## Function to show graph's adjacency matrix"
   ]
  },
  {
   "cell_type": "code",
   "execution_count": 6,
   "id": "d8604d14-de6b-4e79-9d89-df7ee4205b13",
   "metadata": {},
   "outputs": [],
   "source": [
    "def adjmatrix(graph=G): \n",
    "    return pandas.DataFrame(nx.to_numpy_array(graph), columns=graph.nodes, index=graph.nodes)"
   ]
  },
  {
   "cell_type": "markdown",
   "id": "4056a86a-8847-4311-ac16-3c9a3bba4ffa",
   "metadata": {
    "tags": []
   },
   "source": [
    "## Functions to draw graphs"
   ]
  },
  {
   "cell_type": "code",
   "execution_count": 7,
   "id": "cb3b549b-f0af-4739-abf7-5659ccdbc769",
   "metadata": {},
   "outputs": [],
   "source": [
    "def draw_graph(graph=G):\n",
    "    nx.draw_networkx(graph, with_labels = True, font_color = 'white', node_shape = 's')\n",
    "    \n",
    "def draw_wgraph(graph=G):\n",
    "    plt.figure()\n",
    "    pos = nx.spring_layout(graph)\n",
    "    weight_labels = nx.get_edge_attributes(graph,'weight')\n",
    "    nx.draw_networkx(graph,pos,font_color = 'white', node_shape = 's', with_labels = True,)\n",
    "    nx.draw_networkx_edge_labels(graph, pos,edge_labels=weight_labels)\n",
    "    \n",
    "def show_wgraph(custom_node_positions=None):\n",
    "    plt.figure() \n",
    "    \n",
    "    if custom_node_positions==None:\n",
    "        pos = nx.spring_layout(G)\n",
    "    else:\n",
    "        pos=custom_node_positions\n",
    "        \n",
    "    weight_labels = nx.get_edge_attributes(G,'weight')\n",
    "    nx.draw_networkx(G,pos,font_color = 'white', node_shape = 's', with_labels = True,)\n",
    "    output = nx.draw_networkx_edge_labels(G,pos,edge_labels=weight_labels)"
   ]
  },
  {
   "cell_type": "markdown",
   "id": "23ee7077-6f0e-4d32-b9b7-2a902301cfe1",
   "metadata": {
    "tags": []
   },
   "source": [
    "## Function to draw paths from node A to node B in graph"
   ]
  },
  {
   "cell_type": "code",
   "execution_count": 8,
   "id": "2456e962-edd7-4a77-a370-f726d0a1ce41",
   "metadata": {
    "tags": []
   },
   "outputs": [],
   "source": [
    "# Show path in graph G\n",
    "# Optionally enter custom node positions\n",
    "def show_wpath_d(path, custom_node_positions=None):\n",
    "    plt.figure() \n",
    "    \n",
    "    if custom_node_positions==None:\n",
    "        pos = nx.spring_layout(G)\n",
    "    else:\n",
    "        pos=custom_node_positions\n",
    "    \n",
    "    weight_labels = nx.get_edge_attributes(G,'weight')\n",
    "\n",
    "    edges_path = list(zip(path,path[1:]))\n",
    "    edges_path_reversed = [(y,x) for (x,y) in edges_path]\n",
    "    edges_path = edges_path + edges_path_reversed\n",
    "    edge_colors = ['black' if not edge in edges_path else 'red' for edge in G.edges()]\n",
    "\n",
    "    nodecol = ['steelblue' if not node in path else 'red' for node in G.nodes()]\n",
    "    nx.draw(G, pos, with_labels = True, font_color = 'white', edge_color= edge_colors, node_shape = 's', node_color = nodecol)    \n",
    "    nx.draw_networkx_edge_labels(G,pos,edge_labels=weight_labels)\n",
    "\n",
    "# Debug\n",
    "# show_wpath_d('A','F',node_pos)"
   ]
  },
  {
   "cell_type": "markdown",
   "id": "df237c31-6f65-440d-993e-15a1ffeefe07",
   "metadata": {},
   "source": [
    "## Function to show vertice in graph"
   ]
  },
  {
   "cell_type": "code",
   "execution_count": 9,
   "id": "2a713c2e-e71d-45c5-a3ac-517dc9e91740",
   "metadata": {},
   "outputs": [],
   "source": [
    "def show_vertice(v, custom_node_positions=None):\n",
    "    plt.figure()\n",
    "    \n",
    "    if custom_node_positions==None:\n",
    "        pos = nx.spring_layout(G)\n",
    "    else:\n",
    "        pos=custom_node_positions\n",
    "        \n",
    "    weight_labels = nx.get_edge_attributes(G,'weight')\n",
    "    \n",
    "    nodecol = ['steelblue' if not node==v else 'red' for node in G.nodes()]\n",
    "    nx.draw(G, pos, with_labels = True, font_color = 'white', node_shape = 's', node_color = nodecol)    \n",
    "    nx.draw_networkx_edge_labels(G,pos,edge_labels=weight_labels)"
   ]
  },
  {
   "cell_type": "markdown",
   "id": "b6167bcd-d3b1-4472-b973-9103721e6f96",
   "metadata": {
    "tags": []
   },
   "source": [
    "## Functions to get shortest path of graph"
   ]
  },
  {
   "cell_type": "code",
   "execution_count": 10,
   "id": "a31d0ded-2504-4805-b7c3-afbb4c86bf76",
   "metadata": {
    "tags": []
   },
   "outputs": [],
   "source": [
    "# Get shortes path of graph\n",
    "def shortest_path(source, target, graph=G):\n",
    "    return nx.dijkstra_path(graph, source = source, target = target)\n",
    "\n",
    "# Debug\n",
    "# shortest_path('A', 'D')"
   ]
  },
  {
   "cell_type": "markdown",
   "id": "b1365303-d124-436d-bd3f-697ee110f16a",
   "metadata": {
    "tags": []
   },
   "source": [
    "## Function to get longest path of graph"
   ]
  },
  {
   "cell_type": "code",
   "execution_count": 11,
   "id": "2bc58a4e-1b17-4f6c-a90e-26e3495e2141",
   "metadata": {},
   "outputs": [],
   "source": [
    "# Get longest path of graph\n",
    "def longest_path(source, target, graph=G):\n",
    "    H = nx.Graph(graph)\n",
    "    \n",
    "    longest_path=\"\"\n",
    "    largest_sum=0\n",
    "    for path in nx.all_simple_paths(G, source, target):\n",
    "        if (sum_path(path)>largest_sum):\n",
    "            longest_path=path\n",
    "            largest_sum=sum_path(path)\n",
    "    return longest_path\n",
    "\n",
    "# Get path sum\n",
    "def sum_path(path, graph=G):\n",
    "    sum = 0\n",
    "    for i in range (0, len(path)-1):\n",
    "        # print(G[path[i]][path[i+1]])\n",
    "        sum += G[path[i]][path[i+1]]['weight']\n",
    "    return sum\n",
    "\n",
    "# Debug\n",
    "# sum_path(longest_path('A', 'D'))\n",
    "# longest_path('A', 'D')"
   ]
  },
  {
   "cell_type": "markdown",
   "id": "d9fe0eeb-0da4-4854-8d82-cb7622cfac01",
   "metadata": {},
   "source": [
    "## Function to get graph's center"
   ]
  },
  {
   "cell_type": "code",
   "execution_count": 12,
   "id": "0870a2db-92b7-414d-a919-27f06fcbd163",
   "metadata": {},
   "outputs": [],
   "source": [
    "def graph_center(graph=G):\n",
    "    min_eccentr = float('inf')\n",
    "    min_node = None\n",
    "    \n",
    "    for v in graph:\n",
    "        eccentr = eccentricity(v)\n",
    "        # print(v, eccentr)\n",
    "        if eccentr == -float('inf'):\n",
    "            continue\n",
    "        elif eccentr < min_eccentr or min_eccentr == \"inf\":\n",
    "            min_node = v\n",
    "            min_eccentr = eccentricity(v)\n",
    "            \n",
    "    return min_node\n",
    "\n",
    "def eccentricity(v, graph=G):\n",
    "    sum = -float('inf')\n",
    "    for u in graph:\n",
    "        # print(sum_path(longest_path(v, u)))\n",
    "        # print(longest_path(v, u))\n",
    "        try:\n",
    "            # print(shortest_path(u, v))\n",
    "            if len(shortest_path(u, v)) == 1:\n",
    "                continue\n",
    "            sum = max(sum, sum_path(shortest_path(u, v)))\n",
    "        except:\n",
    "            continue\n",
    "    return sum\n",
    "\n",
    "# Debug\n",
    "# print(eccentricity('C'))\n",
    "# print(eccentricity('F'))\n",
    "# eccentricity()\n",
    "# graph_center()"
   ]
  },
  {
   "cell_type": "markdown",
   "id": "01fbeb98-4015-4b9c-b776-4be58750751a",
   "metadata": {},
   "source": [
    "## Function to print all paths from node A to node B increasing"
   ]
  },
  {
   "cell_type": "code",
   "execution_count": 13,
   "id": "4d499ce8-ad0a-4c49-9a72-48136f54f906",
   "metadata": {},
   "outputs": [],
   "source": [
    "def all_paths_sorted(source, target, graph=G):\n",
    "    paths = list(nx.all_simple_paths(graph, source, target))\n",
    "    \n",
    "    for i in range(0, len(paths)):\n",
    "        min_path = i\n",
    "        for j in range(i, len(paths)):\n",
    "            if sum_path(paths[j]) < sum_path(paths[min_path]):\n",
    "                min_path = j\n",
    "        print(paths[min_path], \"sum =\", sum_path(paths[min_path]))\n",
    "        paths[min_path]=paths[i]"
   ]
  },
  {
   "cell_type": "markdown",
   "id": "98dbe080-03c0-429d-9def-9311271591bb",
   "metadata": {
    "tags": []
   },
   "source": [
    "# Laboratory work"
   ]
  },
  {
   "cell_type": "markdown",
   "id": "e8f710fd-59d3-45eb-9367-6243ea1eaa9b",
   "metadata": {
    "tags": []
   },
   "source": [
    "## Draw graph and it's adjacency matrix"
   ]
  },
  {
   "cell_type": "code",
   "execution_count": 14,
   "id": "0e709dde-5000-4e82-91ed-f900e5997625",
   "metadata": {},
   "outputs": [
    {
     "data": {
      "image/png": "[encoded data removed]",
      "text/plain": [
       "<Figure size 640x480 with 1 Axes>"
      ]
     },
     "metadata": {},
     "output_type": "display_data"
    }
   ],
   "source": [
    "show_wgraph(Node_pos)"
   ]
  },
  {
   "cell_type": "code",
   "execution_count": 15,
   "id": "96ef9b01-a81e-4714-a268-a6a69bddd6b7",
   "metadata": {},
   "outputs": [
    {
     "data": {
      "text/html": [
       "<div>\n",
       "<style scoped>\n",
       "    .dataframe tbody tr th:only-of-type {\n",
       "        vertical-align: middle;\n",
       "    }\n",
       "\n",
       "    .dataframe tbody tr th {\n",
       "        vertical-align: top;\n",
       "    }\n",
       "\n",
       "    .dataframe thead th {\n",
       "        text-align: right;\n",
       "    }\n",
       "</style>\n",
       "<table border=\"1\" class=\"dataframe\">\n",
       "  <thead>\n",
       "    <tr style=\"text-align: right;\">\n",
       "      <th></th>\n",
       "      <th>A</th>\n",
       "      <th>B</th>\n",
       "      <th>C</th>\n",
       "      <th>D</th>\n",
       "      <th>E</th>\n",
       "      <th>F</th>\n",
       "    </tr>\n",
       "  </thead>\n",
       "  <tbody>\n",
       "    <tr>\n",
       "      <th>A</th>\n",
       "      <td>0.0</td>\n",
       "      <td>3.0</td>\n",
       "      <td>2.0</td>\n",
       "      <td>0.0</td>\n",
       "      <td>0.0</td>\n",
       "      <td>0.0</td>\n",
       "    </tr>\n",
       "    <tr>\n",
       "      <th>B</th>\n",
       "      <td>0.0</td>\n",
       "      <td>0.0</td>\n",
       "      <td>1.0</td>\n",
       "      <td>4.0</td>\n",
       "      <td>3.0</td>\n",
       "      <td>0.0</td>\n",
       "    </tr>\n",
       "    <tr>\n",
       "      <th>C</th>\n",
       "      <td>0.0</td>\n",
       "      <td>0.0</td>\n",
       "      <td>0.0</td>\n",
       "      <td>8.0</td>\n",
       "      <td>0.0</td>\n",
       "      <td>0.0</td>\n",
       "    </tr>\n",
       "    <tr>\n",
       "      <th>D</th>\n",
       "      <td>0.0</td>\n",
       "      <td>0.0</td>\n",
       "      <td>0.0</td>\n",
       "      <td>0.0</td>\n",
       "      <td>0.0</td>\n",
       "      <td>2.0</td>\n",
       "    </tr>\n",
       "    <tr>\n",
       "      <th>E</th>\n",
       "      <td>0.0</td>\n",
       "      <td>0.0</td>\n",
       "      <td>0.0</td>\n",
       "      <td>4.0</td>\n",
       "      <td>0.0</td>\n",
       "      <td>4.0</td>\n",
       "    </tr>\n",
       "    <tr>\n",
       "      <th>F</th>\n",
       "      <td>0.0</td>\n",
       "      <td>0.0</td>\n",
       "      <td>0.0</td>\n",
       "      <td>0.0</td>\n",
       "      <td>0.0</td>\n",
       "      <td>0.0</td>\n",
       "    </tr>\n",
       "  </tbody>\n",
       "</table>\n",
       "</div>"
      ],
      "text/plain": [
       "     A    B    C    D    E    F\n",
       "A  0.0  3.0  2.0  0.0  0.0  0.0\n",
       "B  0.0  0.0  1.0  4.0  3.0  0.0\n",
       "C  0.0  0.0  0.0  8.0  0.0  0.0\n",
       "D  0.0  0.0  0.0  0.0  0.0  2.0\n",
       "E  0.0  0.0  0.0  4.0  0.0  4.0\n",
       "F  0.0  0.0  0.0  0.0  0.0  0.0"
      ]
     },
     "execution_count": 15,
     "metadata": {},
     "output_type": "execute_result"
    }
   ],
   "source": [
    "adjmatrix()"
   ]
  },
  {
   "cell_type": "markdown",
   "id": "c3c1bcb1-9273-4865-a110-cfee5f76b279",
   "metadata": {
    "tags": []
   },
   "source": [
    "## Shortest path between node A and node B"
   ]
  },
  {
   "cell_type": "code",
   "execution_count": 16,
   "id": "09e810c5-bca8-44ae-b29b-46617f57b1d9",
   "metadata": {},
   "outputs": [],
   "source": [
    "# Initialize node A\n",
    "Node_A = 'A'\n",
    "\n",
    "# Initialize node B\n",
    "Node_B = 'D'"
   ]
  },
  {
   "cell_type": "code",
   "execution_count": 17,
   "id": "8ef2bcab-c486-485a-9679-35a463648a6d",
   "metadata": {},
   "outputs": [
    {
     "data": {
      "image/png": "[encoded data removed]",
      "text/plain": [
       "<Figure size 640x480 with 1 Axes>"
      ]
     },
     "metadata": {},
     "output_type": "display_data"
    }
   ],
   "source": [
    "# Get shortest path\n",
    "Path = shortest_path(Node_A, Node_B)\n",
    "\n",
    "# Draw path\n",
    "show_wpath_d(Path, Node_pos)"
   ]
  },
  {
   "cell_type": "markdown",
   "id": "cd39c282-91b0-4108-9397-c8a47b041e1e",
   "metadata": {
    "tags": []
   },
   "source": [
    "## Longest path between node A and node B"
   ]
  },
  {
   "cell_type": "code",
   "execution_count": 18,
   "id": "6f0b6db7-bc31-4dc2-bded-321310162e87",
   "metadata": {},
   "outputs": [],
   "source": [
    "# Initialize node A\n",
    "Node_A = 'A'\n",
    "\n",
    "# Initialize node B\n",
    "Node_B = 'D'"
   ]
  },
  {
   "cell_type": "code",
   "execution_count": 19,
   "id": "713be787-f809-4732-ad7e-16b383b195be",
   "metadata": {},
   "outputs": [
    {
     "data": {
      "image/png": "[encoded data removed]",
      "text/plain": [
       "<Figure size 640x480 with 1 Axes>"
      ]
     },
     "metadata": {},
     "output_type": "display_data"
    }
   ],
   "source": [
    "# Get longest path\n",
    "Path = longest_path(Node_A, Node_B)\n",
    "\n",
    "# Draw path\n",
    "show_wpath_d(Path, Node_pos)"
   ]
  },
  {
   "cell_type": "markdown",
   "id": "11a25d2d-ffea-47f9-96e8-fcb884751865",
   "metadata": {},
   "source": [
    "## Center of directed graph"
   ]
  },
  {
   "cell_type": "code",
   "execution_count": 20,
   "id": "a72ab05d-2b7a-460e-8bfa-8bf286bdcfe1",
   "metadata": {},
   "outputs": [
    {
     "name": "stdout",
     "output_type": "stream",
     "text": [
      "A : Eccentricity = -inf\n",
      "B : Eccentricity = 3\n",
      "C : Eccentricity = 2\n",
      "D : Eccentricity = 8\n",
      "E : Eccentricity = 6\n",
      "F : Eccentricity = 10\n"
     ]
    },
    {
     "data": {
      "image/png": "[encoded data removed]",
      "text/plain": [
       "<Figure size 640x480 with 1 Axes>"
      ]
     },
     "metadata": {},
     "output_type": "display_data"
    }
   ],
   "source": [
    "for u in G:\n",
    "    print(u, \": Eccentricity =\", eccentricity(u))\n",
    "show_vertice(graph_center(), Node_pos)"
   ]
  },
  {
   "cell_type": "markdown",
   "id": "1f01f90a-8518-492b-a7f8-9a6d7127cd3c",
   "metadata": {},
   "source": [
    "## All paths sorted"
   ]
  },
  {
   "cell_type": "code",
   "execution_count": 21,
   "id": "aa177b76-8fce-433e-ba7f-d9d45d31138a",
   "metadata": {
    "tags": []
   },
   "outputs": [],
   "source": [
    "# Initialize node A\n",
    "Node_A = 'A'\n",
    "\n",
    "# Initialize node B\n",
    "Node_B = 'D'"
   ]
  },
  {
   "cell_type": "code",
   "execution_count": 22,
   "id": "49d8f743-8f4c-4e0c-86a9-585b03b41474",
   "metadata": {},
   "outputs": [
    {
     "name": "stdout",
     "output_type": "stream",
     "text": [
      "['A', 'B', 'D'] sum = 7\n",
      "['A', 'B', 'E', 'D'] sum = 10\n",
      "['A', 'C', 'D'] sum = 10\n",
      "['A', 'B', 'C', 'D'] sum = 12\n"
     ]
    }
   ],
   "source": [
    "all_paths_sorted(Node_A, Node_B)"
   ]
  }
 ],
 "metadata": {
  "kernelspec": {
   "display_name": "Python 3 (ipykernel)",
   "language": "python",
   "name": "python3"
  },
  "language_info": {
   "codemirror_mode": {
    "name": "ipython",
    "version": 3
   },
   "file_extension": ".py",
   "mimetype": "text/x-python",
   "name": "python",
   "nbconvert_exporter": "python",
   "pygments_lexer": "ipython3",
   "version": "3.10.9"
  }
 },
 "nbformat": 4,
 "nbformat_minor": 5
}
